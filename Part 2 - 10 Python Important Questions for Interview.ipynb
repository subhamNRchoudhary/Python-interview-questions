{
 "cells": [
  {
   "cell_type": "markdown",
   "id": "a3b45a46",
   "metadata": {},
   "source": [
    "# 1. Peak Element"
   ]
  },
  {
   "cell_type": "code",
   "execution_count": 3,
   "id": "dda02348",
   "metadata": {},
   "outputs": [
    {
     "name": "stdout",
     "output_type": "stream",
     "text": [
      "95\n"
     ]
    }
   ],
   "source": [
    "arr = [1,5,95,4,5,65,36]\n",
    "\n",
    "#first to last element\n",
    "\n",
    "peak = max(arr[0] , arr[-1])\n",
    "\n",
    "#checking / iterate to find the element\n",
    "for i in range(1,len(arr) - 1):\n",
    "    if arr[i] > arr[i-1] and arr[i] > arr[i+1]:\n",
    "        peak = arr[i]\n",
    "        \n",
    "        break\n",
    "        \n",
    "print(peak)        "
   ]
  },
  {
   "cell_type": "markdown",
   "id": "cb28f38d",
   "metadata": {},
   "source": [
    "# 2. Value Equal to Index Value"
   ]
  },
  {
   "cell_type": "code",
   "execution_count": 5,
   "id": "6bdb63a7",
   "metadata": {},
   "outputs": [
    {
     "name": "stdout",
     "output_type": "stream",
     "text": [
      "[2, 4, 5, 6, 8]\n"
     ]
    }
   ],
   "source": [
    "arr = [0,2,2,4,5,6,6,8,8,9]\n",
    "\n",
    "#value equal to the index or postion \n",
    "\n",
    "a = [i for i,value in enumerate(arr,1)\n",
    "    if value == i]\n",
    "\n",
    "print(a)"
   ]
  },
  {
   "cell_type": "code",
   "execution_count": 6,
   "id": "5ba3b024",
   "metadata": {},
   "outputs": [
    {
     "data": {
      "text/plain": [
       "'The enumerate function in Python adds a counter to an iterable \\n(such as a list) and returns it as an enumerate object.'"
      ]
     },
     "execution_count": 6,
     "metadata": {},
     "output_type": "execute_result"
    }
   ],
   "source": [
    "'''The enumerate function in Python adds a counter to an iterable \n",
    "(such as a list) and returns it as an enumerate object.'''"
   ]
  },
  {
   "cell_type": "markdown",
   "id": "50fc080f",
   "metadata": {},
   "source": [
    "# 3. Immediate Smaller Element"
   ]
  },
  {
   "cell_type": "code",
   "execution_count": 8,
   "id": "73db8dc8",
   "metadata": {},
   "outputs": [
    {
     "name": "stdout",
     "output_type": "stream",
     "text": [
      "[-1, -1, -1, 32, -1]\n"
     ]
    }
   ],
   "source": [
    "arr = [4,9,58,65,32]\n",
    "result = []\n",
    "\n",
    "#iterate\n",
    "for i in range(len(arr) -1):\n",
    "    if arr[i] > arr[i+1]:\n",
    "        result.append(arr[i+1])\n",
    "    else:\n",
    "        result.append(-1)\n",
    "        \n",
    "#append -1\n",
    "result.append(-1)\n",
    "\n",
    "print(result)"
   ]
  },
  {
   "cell_type": "markdown",
   "id": "243a56bf",
   "metadata": {},
   "source": [
    "# 4. Find the Median"
   ]
  },
  {
   "cell_type": "code",
   "execution_count": 11,
   "id": "13a918ad",
   "metadata": {},
   "outputs": [
    {
     "name": "stdout",
     "output_type": "stream",
     "text": [
      "6.5\n"
     ]
    }
   ],
   "source": [
    "a = [1,8,2,5,9,35]\n",
    "\n",
    "a.sort() # sort the array\n",
    "\n",
    "n = len(a)\n",
    "\n",
    "#calculate\n",
    "if n%2 == 0 :\n",
    "    median = (a[n//2-1] + a[n//2])/2\n",
    "    \n",
    "else:\n",
    "    median = arr[n//2]\n",
    "    \n",
    "print(median)    "
   ]
  },
  {
   "cell_type": "markdown",
   "id": "773de25e",
   "metadata": {},
   "source": [
    "# 5. Third Largest Element"
   ]
  },
  {
   "cell_type": "code",
   "execution_count": 12,
   "id": "045f0e8b",
   "metadata": {},
   "outputs": [
    {
     "name": "stdout",
     "output_type": "stream",
     "text": [
      "65\n"
     ]
    }
   ],
   "source": [
    "def third_largest(n):\n",
    "    if len(n) < 3:\n",
    "        return None\n",
    "    n = list(set(n))\n",
    "    n.sort()\n",
    "    return n[-3]\n",
    "\n",
    "print(third_largest([9,55,85,35,65,75]))"
   ]
  },
  {
   "cell_type": "markdown",
   "id": "e03c8752",
   "metadata": {},
   "source": [
    "# 6. Third Smallest Element"
   ]
  },
  {
   "cell_type": "code",
   "execution_count": 13,
   "id": "1c590e74",
   "metadata": {},
   "outputs": [
    {
     "name": "stdout",
     "output_type": "stream",
     "text": [
      "5\n"
     ]
    }
   ],
   "source": [
    "def third_smallest(n):\n",
    "    if len(n) > 3:\n",
    "        return None\n",
    "    n = list(set(n))\n",
    "    n.sort()\n",
    "    return n[3]\n",
    "\n",
    "print(third_largest([1,2,5,8,1,6,5]))"
   ]
  },
  {
   "cell_type": "markdown",
   "id": "142e0ca9",
   "metadata": {},
   "source": [
    "# 7. smallest Element"
   ]
  },
  {
   "cell_type": "code",
   "execution_count": 15,
   "id": "5fe76e0a",
   "metadata": {},
   "outputs": [
    {
     "name": "stdout",
     "output_type": "stream",
     "text": [
      "1\n"
     ]
    }
   ],
   "source": [
    "n = [5,1,8,6]\n",
    "\n",
    "if len(n) < 1:\n",
    "    smallest = None\n",
    "    \n",
    "else:\n",
    "    n = list(set(n))\n",
    "    n.sort()\n",
    "    smallest = n[0]\n",
    "    \n",
    "print(smallest)    "
   ]
  },
  {
   "cell_type": "markdown",
   "id": "30434466",
   "metadata": {},
   "source": [
    "# 8. Find Common Letters from Two Words"
   ]
  },
  {
   "cell_type": "markdown",
   "id": "9fa004ec",
   "metadata": {},
   "source": [
    "Two different method"
   ]
  },
  {
   "cell_type": "code",
   "execution_count": 16,
   "id": "c8862b11",
   "metadata": {},
   "outputs": [
    {
     "name": "stdout",
     "output_type": "stream",
     "text": [
      "enter 1st word:Shubham\n",
      "enter 2nd word:SunnyChoudhary\n",
      "Letter :  {'h', 'a', 'S', 'u'}\n"
     ]
    }
   ],
   "source": [
    "a = input(\"enter 1st word:\")\n",
    "\n",
    "b = input(\"enter 2nd word:\")\n",
    "\n",
    "common = set(a) & set(b)\n",
    "\n",
    "print(\"Letter : \",common)"
   ]
  },
  {
   "cell_type": "code",
   "execution_count": 17,
   "id": "e431450b",
   "metadata": {},
   "outputs": [
    {
     "name": "stdout",
     "output_type": "stream",
     "text": [
      "{'a', 'e', 'l', 'p'}\n"
     ]
    }
   ],
   "source": [
    "a = \"apple\"\n",
    "b = \"sample\"\n",
    "common = set(a) & set(b)\n",
    "print(common)"
   ]
  },
  {
   "cell_type": "markdown",
   "id": "a3fd5249",
   "metadata": {},
   "source": [
    "# 9. Reverse a Name"
   ]
  },
  {
   "cell_type": "code",
   "execution_count": 18,
   "id": "2c99dca7",
   "metadata": {},
   "outputs": [
    {
     "name": "stdout",
     "output_type": "stream",
     "text": [
      "enter name:Iloveyourlife\n",
      "efilruoyevolI\n"
     ]
    }
   ],
   "source": [
    "a = input(\"enter name:\")\n",
    "b = a[::-1]\n",
    "print(b)"
   ]
  },
  {
   "cell_type": "markdown",
   "id": "3002a24b",
   "metadata": {},
   "source": [
    "# 10. Check if a Number is Prime"
   ]
  },
  {
   "cell_type": "code",
   "execution_count": 19,
   "id": "ec0408a7",
   "metadata": {},
   "outputs": [
    {
     "name": "stdout",
     "output_type": "stream",
     "text": [
      "True\n"
     ]
    }
   ],
   "source": [
    "def is_prime(n):\n",
    "    if n<=1:\n",
    "        return False\n",
    "    for i in range(2,int(n**0.5)+1):\n",
    "        if n%i == 0:\n",
    "            return False\n",
    "    return True\n",
    "\n",
    "print(is_prime(11)) "
   ]
  }
 ],
 "metadata": {
  "kernelspec": {
   "display_name": "Python 3 (ipykernel)",
   "language": "python",
   "name": "python3"
  },
  "language_info": {
   "codemirror_mode": {
    "name": "ipython",
    "version": 3
   },
   "file_extension": ".py",
   "mimetype": "text/x-python",
   "name": "python",
   "nbconvert_exporter": "python",
   "pygments_lexer": "ipython3",
   "version": "3.10.9"
  }
 },
 "nbformat": 4,
 "nbformat_minor": 5
}
