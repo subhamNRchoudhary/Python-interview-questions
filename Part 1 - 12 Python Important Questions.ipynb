{
 "cells": [
  {
   "cell_type": "markdown",
   "id": "3680ea69",
   "metadata": {},
   "source": [
    "# 1. Reverse a Number"
   ]
  },
  {
   "cell_type": "code",
   "execution_count": 3,
   "id": "35749d78",
   "metadata": {},
   "outputs": [
    {
     "name": "stdout",
     "output_type": "stream",
     "text": [
      "54321\n"
     ]
    }
   ],
   "source": [
    "#easy way/method\n",
    "\n",
    "n = 12345\n",
    "a = int(str(n)[::-1])\n",
    "print(a)\n",
    "\n",
    "#we used (slicing)"
   ]
  },
  {
   "cell_type": "code",
   "execution_count": 4,
   "id": "3f2f14e7",
   "metadata": {},
   "outputs": [
    {
     "name": "stdout",
     "output_type": "stream",
     "text": [
      "987654321\n"
     ]
    }
   ],
   "source": [
    "def a(n):\n",
    "    b = 0\n",
    "    while n > 0: # Continue the loop as long as n is greater than 0\n",
    "        digit = n%10 # Get the last digit of n by taking the remainder when n is divided by 10\n",
    "        b = b * 10 + digit # Shift the digits of reversed_num left and add the new digit\n",
    "        n = n // 10  # Remove the last digit from n by performing integer division by 10\n",
    "    return b\n",
    "\n",
    "print(a(123456789))"
   ]
  },
  {
   "cell_type": "markdown",
   "id": "7bab8b0e",
   "metadata": {},
   "source": [
    "# 2. Find Common Letters from Two Words"
   ]
  },
  {
   "cell_type": "markdown",
   "id": "5d13f71b",
   "metadata": {},
   "source": [
    "#Two different method "
   ]
  },
  {
   "cell_type": "code",
   "execution_count": 1,
   "id": "61780c12",
   "metadata": {},
   "outputs": [
    {
     "name": "stdout",
     "output_type": "stream",
     "text": [
      "enter 1st word:Shubham\n",
      "enter 2nd word:Sunny\n",
      "Letter :  {'S', 'u'}\n"
     ]
    }
   ],
   "source": [
    "a = input(\"enter 1st word:\")\n",
    "\n",
    "b = input(\"enter 2nd word:\")\n",
    "\n",
    "common = set(a) & set(b)\n",
    "\n",
    "print(\"Letter : \",common)"
   ]
  },
  {
   "cell_type": "code",
   "execution_count": 2,
   "id": "2296d127",
   "metadata": {},
   "outputs": [
    {
     "name": "stdout",
     "output_type": "stream",
     "text": [
      "{'e', 'a', 'p', 'l'}\n"
     ]
    }
   ],
   "source": [
    "a = \"apple\"\n",
    "b = \"sample\"\n",
    "common = set(a) & set(b)\n",
    "print(common)"
   ]
  },
  {
   "cell_type": "markdown",
   "id": "6fae9839",
   "metadata": {},
   "source": [
    "#  3. Find the Length of a String"
   ]
  },
  {
   "cell_type": "code",
   "execution_count": 6,
   "id": "44b00609",
   "metadata": {},
   "outputs": [
    {
     "name": "stdout",
     "output_type": "stream",
     "text": [
      "7\n"
     ]
    }
   ],
   "source": [
    "s = \"Shubham\"\n",
    "Length = len(s)\n",
    "print(Length)"
   ]
  },
  {
   "cell_type": "code",
   "execution_count": 1,
   "id": "1e75ab6e",
   "metadata": {},
   "outputs": [
    {
     "name": "stdout",
     "output_type": "stream",
     "text": [
      "7\n"
     ]
    }
   ],
   "source": [
    "def length(a):\n",
    "    return len(a)\n",
    "\n",
    "print(length(\"shubham\"))"
   ]
  },
  {
   "cell_type": "code",
   "execution_count": 2,
   "id": "4f2dab2d",
   "metadata": {},
   "outputs": [
    {
     "name": "stdout",
     "output_type": "stream",
     "text": [
      "enter:Shubham Choudhary\n",
      "17\n"
     ]
    }
   ],
   "source": [
    "a = input(\"enter:\")\n",
    "print(len(a))"
   ]
  },
  {
   "cell_type": "markdown",
   "id": "053a4011",
   "metadata": {},
   "source": [
    "# 4. Find the Length of Common Letters between Two Words"
   ]
  },
  {
   "cell_type": "code",
   "execution_count": 3,
   "id": "53ca922a",
   "metadata": {},
   "outputs": [
    {
     "name": "stdout",
     "output_type": "stream",
     "text": [
      "enter 1st word:Shubham\n",
      "enter 2nd word:Sunny\n",
      "Letter :  2\n"
     ]
    }
   ],
   "source": [
    "a = input(\"enter 1st word:\")\n",
    "\n",
    "b = input(\"enter 2nd word:\")\n",
    "\n",
    "common = len(set(a) & set(b))\n",
    "\n",
    "print(\"Letter : \",common)"
   ]
  },
  {
   "cell_type": "code",
   "execution_count": 4,
   "id": "9cb111ba",
   "metadata": {},
   "outputs": [
    {
     "name": "stdout",
     "output_type": "stream",
     "text": [
      "4\n"
     ]
    }
   ],
   "source": [
    "def common_letter(a,b):\n",
    "    return len(set(a) & set(b))\n",
    "\n",
    "print(common_letter(\"apple\" ,\"samplee\"))"
   ]
  },
  {
   "cell_type": "markdown",
   "id": "f9e1036e",
   "metadata": {},
   "source": [
    "# 5. Add the Last Two Digits of a Number"
   ]
  },
  {
   "cell_type": "code",
   "execution_count": 10,
   "id": "897839aa",
   "metadata": {},
   "outputs": [
    {
     "name": "stdout",
     "output_type": "stream",
     "text": [
      "[10, 14, 11, 3, 14]\n"
     ]
    }
   ],
   "source": [
    "a = ('255', '659', '483', '621', '759')\n",
    "\n",
    "# Convert each string in the tuple to an integer, and then find the sum of the last two digits\n",
    "b = [((int(x) % 10) + ((int(x) // 10) % 10)) for x in a]\n",
    "\n",
    "print(b)  \n"
   ]
  },
  {
   "cell_type": "code",
   "execution_count": 12,
   "id": "a9879e4a",
   "metadata": {},
   "outputs": [
    {
     "name": "stdout",
     "output_type": "stream",
     "text": [
      "17\n"
     ]
    }
   ],
   "source": [
    "a = 12389\n",
    "b = (a % 10) + ((a // 10) % 10)\n",
    "print(b)  "
   ]
  },
  {
   "cell_type": "code",
   "execution_count": 15,
   "id": "ce9cda88",
   "metadata": {},
   "outputs": [
    {
     "name": "stdout",
     "output_type": "stream",
     "text": [
      "14\n"
     ]
    }
   ],
   "source": [
    "def last_two (n):\n",
    "    \n",
    "    b = n%10\n",
    "    \n",
    "    c = (n//10)%10\n",
    "    \n",
    "    return b + c\n",
    "\n",
    "print(last_two(12456695))"
   ]
  },
  {
   "cell_type": "markdown",
   "id": "0e151d87",
   "metadata": {},
   "source": [
    "# 6. For Loop Example"
   ]
  },
  {
   "cell_type": "code",
   "execution_count": 18,
   "id": "09f9fbc3",
   "metadata": {},
   "outputs": [
    {
     "name": "stdout",
     "output_type": "stream",
     "text": [
      "0\n",
      "1\n",
      "2\n",
      "3\n",
      "4\n",
      "5\n",
      "6\n",
      "7\n",
      "8\n"
     ]
    }
   ],
   "source": [
    "for i in range(9):\n",
    "    print(i)"
   ]
  },
  {
   "cell_type": "markdown",
   "id": "5977da87",
   "metadata": {},
   "source": [
    "# 7. Question on Tuples"
   ]
  },
  {
   "cell_type": "code",
   "execution_count": 20,
   "id": "a3c003e8",
   "metadata": {},
   "outputs": [
    {
     "name": "stdout",
     "output_type": "stream",
     "text": [
      "(9, 14, 8)\n"
     ]
    }
   ],
   "source": [
    "def tuple_exp():\n",
    "    t = (1,9,14,8,36)\n",
    "    return t[1:4]\n",
    "\n",
    "print(tuple_exp())"
   ]
  },
  {
   "cell_type": "code",
   "execution_count": 21,
   "id": "8632d8eb",
   "metadata": {},
   "outputs": [
    {
     "name": "stdout",
     "output_type": "stream",
     "text": [
      "(36, 1)\n"
     ]
    }
   ],
   "source": [
    "def tuple_exp():\n",
    "    t = (1,9,14,8,36)\n",
    "    return t[::-4]\n",
    "\n",
    "print(tuple_exp())"
   ]
  },
  {
   "cell_type": "code",
   "execution_count": 22,
   "id": "58ff5ffd",
   "metadata": {},
   "outputs": [
    {
     "name": "stdout",
     "output_type": "stream",
     "text": [
      "(9, 14, 8, 36)\n"
     ]
    }
   ],
   "source": [
    "def tuple_exp():\n",
    "    t = (1,9,14,8,36)\n",
    "    return t[1::]\n",
    "\n",
    "print(tuple_exp())"
   ]
  },
  {
   "cell_type": "code",
   "execution_count": 23,
   "id": "96870511",
   "metadata": {},
   "outputs": [
    {
     "name": "stdout",
     "output_type": "stream",
     "text": [
      "(8, 36)\n"
     ]
    }
   ],
   "source": [
    "def tuple_exp():\n",
    "    t = (1,9,14,8,36)\n",
    "    return t[3::]\n",
    "\n",
    "print(tuple_exp())"
   ]
  },
  {
   "cell_type": "markdown",
   "id": "06cbc4b4",
   "metadata": {},
   "source": [
    "# 8. Difference between List, Set, and Tuple"
   ]
  },
  {
   "cell_type": "code",
   "execution_count": 24,
   "id": "a7fbc704",
   "metadata": {},
   "outputs": [
    {
     "name": "stdout",
     "output_type": "stream",
     "text": [
      "([1, 2, 3, 4], {1, 2, 3, 4}, (1, 2, 3, 4))\n"
     ]
    }
   ],
   "source": [
    "def coll():\n",
    "    alist = [1,2,3,4]\n",
    "    bstring = {1,2,3,4}\n",
    "    ctuple = (1,2,3,4)\n",
    "    return alist , bstring , ctuple\n",
    "\n",
    "print(coll())"
   ]
  },
  {
   "cell_type": "markdown",
   "id": "3ce8c634",
   "metadata": {},
   "source": [
    "# 9. Reverse a Name"
   ]
  },
  {
   "cell_type": "code",
   "execution_count": 29,
   "id": "6a393f73",
   "metadata": {},
   "outputs": [
    {
     "name": "stdout",
     "output_type": "stream",
     "text": [
      "tseB si mahbuhs\n"
     ]
    }
   ],
   "source": [
    "def rever_name(a):\n",
    "    return a [::-1]\n",
    "\n",
    "print(rever_name(\"shubham is Best\"))"
   ]
  },
  {
   "cell_type": "code",
   "execution_count": 28,
   "id": "506ff536",
   "metadata": {},
   "outputs": [
    {
     "name": "stdout",
     "output_type": "stream",
     "text": [
      "enter name:Shubham\n",
      "mahbuhS\n"
     ]
    }
   ],
   "source": [
    "a = input(\"enter name:\")\n",
    "b = a[::-1]\n",
    "print(b)"
   ]
  },
  {
   "cell_type": "markdown",
   "id": "2d7674b3",
   "metadata": {},
   "source": [
    "# 10. Print Vowels in a Name"
   ]
  },
  {
   "cell_type": "code",
   "execution_count": 33,
   "id": "ba1dfb41",
   "metadata": {},
   "outputs": [
    {
     "name": "stdout",
     "output_type": "stream",
     "text": [
      "enter name:shubham is the best\n",
      "['u', 'a', 'i', 'e', 'e']\n"
     ]
    }
   ],
   "source": [
    "a = input(\"enter name:\")\n",
    "vowels = \"aeiou\"\n",
    "b = [char for char in a if char.lower() in vowels]\n",
    "\n",
    "print(b)"
   ]
  },
  {
   "cell_type": "markdown",
   "id": "80a9b62d",
   "metadata": {},
   "source": [
    "# 11. Find the Factorial of a Number"
   ]
  },
  {
   "cell_type": "code",
   "execution_count": 34,
   "id": "59d5293e",
   "metadata": {},
   "outputs": [
    {
     "name": "stdout",
     "output_type": "stream",
     "text": [
      "120\n"
     ]
    }
   ],
   "source": [
    "def factorial(n):\n",
    "    if n == 0:\n",
    "        return 1\n",
    "    else:\n",
    "        return n * factorial(n-1)\n",
    "    \n",
    "print(factorial(5))    "
   ]
  },
  {
   "cell_type": "code",
   "execution_count": 37,
   "id": "c45da243",
   "metadata": {},
   "outputs": [
    {
     "name": "stdout",
     "output_type": "stream",
     "text": [
      "5040\n"
     ]
    }
   ],
   "source": [
    "n = 7\n",
    "factorial = 1\n",
    "\n",
    "for i in range(1,n+1):\n",
    "    factorial *= i\n",
    "\n",
    "print(factorial)    "
   ]
  },
  {
   "cell_type": "markdown",
   "id": "0a89ca34",
   "metadata": {},
   "source": [
    "# 12. Check if a Number is Prime"
   ]
  },
  {
   "cell_type": "code",
   "execution_count": 38,
   "id": "ff0671ea",
   "metadata": {},
   "outputs": [
    {
     "name": "stdout",
     "output_type": "stream",
     "text": [
      "True\n"
     ]
    }
   ],
   "source": [
    "def is_prime(n):\n",
    "    if n<=1:\n",
    "        return False\n",
    "    for i in range(2,int(n**0.5)+1):\n",
    "        if n%i == 0:\n",
    "            return False\n",
    "    return True\n",
    "\n",
    "print(is_prime(11))    "
   ]
  }
 ],
 "metadata": {
  "kernelspec": {
   "display_name": "Python 3 (ipykernel)",
   "language": "python",
   "name": "python3"
  },
  "language_info": {
   "codemirror_mode": {
    "name": "ipython",
    "version": 3
   },
   "file_extension": ".py",
   "mimetype": "text/x-python",
   "name": "python",
   "nbconvert_exporter": "python",
   "pygments_lexer": "ipython3",
   "version": "3.10.9"
  }
 },
 "nbformat": 4,
 "nbformat_minor": 5
}
