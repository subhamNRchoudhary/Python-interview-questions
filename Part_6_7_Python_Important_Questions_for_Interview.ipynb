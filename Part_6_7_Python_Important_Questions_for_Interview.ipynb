{
  "nbformat": 4,
  "nbformat_minor": 0,
  "metadata": {
    "colab": {
      "provenance": []
    },
    "kernelspec": {
      "name": "python3",
      "display_name": "Python 3"
    },
    "language_info": {
      "name": "python"
    }
  },
  "cells": [
    {
      "cell_type": "markdown",
      "source": [
        "**1. Tuple and Set**"
      ],
      "metadata": {
        "id": "SS9Yrbxp35Jt"
      }
    },
    {
      "cell_type": "code",
      "source": [
        "a_Tuple = (1,2,3,4,9)\n",
        "\n",
        "b_set = {1,2,3,4,9}\n",
        "\n",
        "print(\"Tuple:\",a_Tuple)\n",
        "print(\"Set:\",b_set)"
      ],
      "metadata": {
        "colab": {
          "base_uri": "https://localhost:8080/"
        },
        "id": "nXlT2c7D4AMn",
        "outputId": "c87601c7-ff92-405e-e2d5-bf9a127401e9"
      },
      "execution_count": null,
      "outputs": [
        {
          "output_type": "stream",
          "name": "stdout",
          "text": [
            "Tuple: (1, 2, 3, 4, 9)\n",
            "Set: {1, 2, 3, 4, 9}\n"
          ]
        }
      ]
    },
    {
      "cell_type": "markdown",
      "source": [
        "**2. a = 'hloo', b = \" \".join(a), print(b)**"
      ],
      "metadata": {
        "id": "PmtjoYUH4fyh"
      }
    },
    {
      "cell_type": "code",
      "source": [
        "a = 'SubhamChoudhary'\n",
        "b = \" \".join(a)\n",
        "print(b)\n"
      ],
      "metadata": {
        "colab": {
          "base_uri": "https://localhost:8080/"
        },
        "id": "6EdYOTeg4bIp",
        "outputId": "35131451-3ded-4dc7-ec27-5e3ede03ebf4"
      },
      "execution_count": null,
      "outputs": [
        {
          "output_type": "stream",
          "name": "stdout",
          "text": [
            "S u b h a m C h o u d h a r y\n"
          ]
        }
      ]
    },
    {
      "cell_type": "markdown",
      "source": [
        "**3. Create a Pandas DataFrame**"
      ],
      "metadata": {
        "id": "W2Qt1iO34nZH"
      }
    },
    {
      "cell_type": "code",
      "source": [
        "import pandas as pd\n",
        "\n",
        "Data = {'Name': ['a', 'b', 'c', 'd'], #  DataFrame\n",
        "        'Age': [28, 24, 35, 32],      #  DataFrame\n",
        "        'City': ['Bihar', 'Karnataka', 'Delhi', 'WB']}  #  DataFrame\n",
        "\n",
        "hi = pd.DataFrame(Data)\n",
        "print(hi)"
      ],
      "metadata": {
        "colab": {
          "base_uri": "https://localhost:8080/"
        },
        "id": "AO-NnjH44ksn",
        "outputId": "74ffe2bb-22f7-459e-be4d-a24fb681abac"
      },
      "execution_count": null,
      "outputs": [
        {
          "output_type": "stream",
          "name": "stdout",
          "text": [
            "  Name  Age       City\n",
            "0    a   28      Bihar\n",
            "1    b   24  Karnataka\n",
            "2    c   35      Delhi\n",
            "3    d   32         WB\n"
          ]
        }
      ]
    },
    {
      "cell_type": "markdown",
      "source": [
        "**4. How to remove a blank column in Python using the drop function**"
      ],
      "metadata": {
        "id": "4nk5Czvh5Kyl"
      }
    },
    {
      "cell_type": "code",
      "source": [
        "import pandas as pd\n",
        "\n",
        "Data = {'Name': ['a', 'b', 'c', 'd'], #  DataFrame\n",
        "        'Age': [28, 24, 35, 32],      #  DataFrame\n",
        "        'City': ['Bihar', 'Karnataka', 'Delhi', 'WB'], #  DataFrame\n",
        "        'Empty': ['']*4}\n",
        "\n",
        "hi = pd.DataFrame(Data)\n",
        "print(\"Before removing the blank column:\")\n",
        "print(hi)\n",
        "\n",
        "hi.drop(columns=['Empty'], inplace=True) # Removing\n",
        "\n",
        "print(\"\\nAfter removing the blank column:\")\n",
        "print(hi)\n"
      ],
      "metadata": {
        "colab": {
          "base_uri": "https://localhost:8080/"
        },
        "id": "dfR1UYCt4-43",
        "outputId": "eed01261-3d8d-4dce-ffd9-2bec8ccc9331"
      },
      "execution_count": null,
      "outputs": [
        {
          "output_type": "stream",
          "name": "stdout",
          "text": [
            "Before removing the blank column:\n",
            "  Name  Age       City Empty\n",
            "0    a   28      Bihar      \n",
            "1    b   24  Karnataka      \n",
            "2    c   35      Delhi      \n",
            "3    d   32         WB      \n",
            "\n",
            "After removing the blank column:\n",
            "  Name  Age       City\n",
            "0    a   28      Bihar\n",
            "1    b   24  Karnataka\n",
            "2    c   35      Delhi\n",
            "3    d   32         WB\n"
          ]
        }
      ]
    },
    {
      "cell_type": "markdown",
      "source": [
        "**5. Find the average of a given list of numbers without using an inbuilt function**"
      ],
      "metadata": {
        "id": "ig3kiUoG5wbL"
      }
    },
    {
      "cell_type": "code",
      "source": [
        "def find_average(numbers):\n",
        "    total_sum = 0\n",
        "    for number in numbers:\n",
        "        total_sum += number\n",
        "    average = total_sum / len(numbers)\n",
        "    return average\n",
        "\n",
        "numbers = [10, 20, 30, 40, 50]\n",
        "avg = find_average(numbers)\n",
        "print(\"Average:\", avg)"
      ],
      "metadata": {
        "colab": {
          "base_uri": "https://localhost:8080/"
        },
        "id": "Uao_t67o5oUE",
        "outputId": "2caa026e-518a-4578-8c45-49261e06a4a2"
      },
      "execution_count": null,
      "outputs": [
        {
          "output_type": "stream",
          "name": "stdout",
          "text": [
            "Average: 30.0\n"
          ]
        }
      ]
    },
    {
      "cell_type": "markdown",
      "source": [
        "**6. When to use inplace=True in Python**"
      ],
      "metadata": {
        "id": "gMMqraSt539W"
      }
    },
    {
      "cell_type": "markdown",
      "source": [
        "*inplace=True is used when you want to modify the data in place, meaning the original data structure is modified without creating a new one. For example, in a DataFrame, using inplace=True will modify the original DataFrame directly.*"
      ],
      "metadata": {
        "id": "LYASDHqn55rB"
      }
    },
    {
      "cell_type": "code",
      "source": [
        "import pandas as pd\n",
        "\n",
        "data = {'Name': ['a', 'b', 'c', 'd'],\n",
        "        'Age': [28, 24, 35, 32]}\n",
        "\n",
        "df = pd.DataFrame(data)\n",
        "print(\"Before modification:\")\n",
        "print(df)\n",
        "\n",
        "df.drop(columns=['Age'], inplace=True) # Using inplace=True\n",
        "\n",
        "print(\"\\nAfter modification:\")\n",
        "print(df)"
      ],
      "metadata": {
        "colab": {
          "base_uri": "https://localhost:8080/"
        },
        "id": "X_AMuh9051Tx",
        "outputId": "93782ba8-6e83-473b-bdea-f476c2de2405"
      },
      "execution_count": null,
      "outputs": [
        {
          "output_type": "stream",
          "name": "stdout",
          "text": [
            "Before modification:\n",
            "  Name  Age\n",
            "0    a   28\n",
            "1    b   24\n",
            "2    c   35\n",
            "3    d   32\n",
            "\n",
            "After modification:\n",
            "  Name\n",
            "0    a\n",
            "1    b\n",
            "2    c\n",
            "3    d\n"
          ]
        }
      ]
    },
    {
      "cell_type": "markdown",
      "source": [
        "**7. Add the last 2 digits of a number**"
      ],
      "metadata": {
        "id": "LafZjWZI6I-v"
      }
    },
    {
      "cell_type": "code",
      "source": [
        "def add_last_two_digits(number):\n",
        "    last_digit = number % 10\n",
        "    second_last_digit = (number // 10) % 10\n",
        "    return last_digit + second_last_digit\n",
        "\n",
        "number = 12345\n",
        "result = add_last_two_digits(number)\n",
        "print(\"Sum of last:\", result)"
      ],
      "metadata": {
        "colab": {
          "base_uri": "https://localhost:8080/"
        },
        "id": "igK1qs5d6G7X",
        "outputId": "fc7c1da2-6e10-43dd-eeff-92bb2a223aed"
      },
      "execution_count": null,
      "outputs": [
        {
          "output_type": "stream",
          "name": "stdout",
          "text": [
            "Sum of last: 9\n"
          ]
        }
      ]
    },
    {
      "cell_type": "markdown",
      "source": [
        "**8. Count the common digits between two numbers**"
      ],
      "metadata": {
        "id": "VIy9qJt16UTr"
      }
    },
    {
      "cell_type": "code",
      "source": [
        "def count_common_digits(num1, num2):\n",
        "    digits_num1 = set(str(num1))\n",
        "    digits_num2 = set(str(num2))\n",
        "    common_digits = digits_num1.intersection(digits_num2)\n",
        "    return len(common_digits)\n",
        "\n",
        "num1 = 12345\n",
        "num2 = 54321\n",
        "common_count = count_common_digits(num1, num2)\n",
        "print(\"Count of common digits:\", common_count)"
      ],
      "metadata": {
        "colab": {
          "base_uri": "https://localhost:8080/"
        },
        "id": "oMqsSUgU6LyQ",
        "outputId": "2910f9b8-16fc-438b-bb77-fb5fea16b30b"
      },
      "execution_count": null,
      "outputs": [
        {
          "output_type": "stream",
          "name": "stdout",
          "text": [
            "Count of common digits: 5\n"
          ]
        }
      ]
    }
  ]
}