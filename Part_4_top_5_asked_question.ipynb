{
  "nbformat": 4,
  "nbformat_minor": 0,
  "metadata": {
    "colab": {
      "provenance": []
    },
    "kernelspec": {
      "name": "python3",
      "display_name": "Python 3"
    },
    "language_info": {
      "name": "python"
    }
  },
  "cells": [
    {
      "cell_type": "markdown",
      "source": [
        " DataFrame Operations and Manipulation"
      ],
      "metadata": {
        "id": "olREE-JYxzgP"
      }
    },
    {
      "cell_type": "markdown",
      "source": [
        "Code: How would you filter a DataFrame to include only rows where the value in a column 'A' is greater than 50?\n",
        "Theory: Explain the use of loc and iloc in pandas."
      ],
      "metadata": {
        "id": "B4CwiPx9yQEq"
      }
    },
    {
      "cell_type": "code",
      "execution_count": 2,
      "metadata": {
        "colab": {
          "base_uri": "https://localhost:8080/"
        },
        "id": "qvX4YmH_xbXZ",
        "outputId": "9347cde1-ac11-4152-9f62-ffd52da4204e"
      },
      "outputs": [
        {
          "output_type": "stream",
          "name": "stdout",
          "text": [
            "    A  B\n",
            "2  60  3\n",
            "3  70  4\n"
          ]
        }
      ],
      "source": [
        "import pandas as pd\n",
        "\n",
        "data = {'A': [10, 20, 60, 70], 'B': [1, 2, 3, 4]}\n",
        "df = pd.DataFrame(data)\n",
        "\n",
        "filtered_df = df[df['A'] > 50]\n",
        "\n",
        "print(filtered_df)"
      ]
    },
    {
      "cell_type": "markdown",
      "source": [
        "Theory: loc is used for label-based indexing, while iloc is used for integer-based indexing. loc allows selection by row and column labels, and iloc allows selection by row and column positions."
      ],
      "metadata": {
        "id": "O_E2GwIlyRzF"
      }
    },
    {
      "cell_type": "markdown",
      "source": [
        "Handling Missing Data"
      ],
      "metadata": {
        "id": "fDI-ob9R1Meo"
      }
    },
    {
      "cell_type": "code",
      "source": [
        "import pandas as pd\n",
        "import numpy as np\n",
        "\n",
        "data = {\n",
        "    'A': [1, 2, np.nan, 4],\n",
        "    'B': [np.nan, 2, 3, 4],\n",
        "    'C': [1, 2, 3, np.nan]\n",
        "}\n",
        "df = pd.DataFrame(data)\n",
        "\n",
        "# drop\n",
        "df_dropped = df.dropna()\n",
        "\n",
        "# Fill missing values\n",
        "df_filled = df.fillna(0)\n",
        "\n",
        "# Fill missing values using forward fill\n",
        "df_ffill = df.fillna(method='ffill')\n",
        "\n",
        "print(\"Original DataFrame:\")\n",
        "print(df)\n",
        "print(\"\\nDataFrame with rows dropped:\")\n",
        "print(df_dropped)\n",
        "print(\"\\nDataFrame with missing values filled with 0:\")\n",
        "print(df_filled)\n",
        "print(\"\\nDataFrame with forward fill:\")\n",
        "print(df_ffill)"
      ],
      "metadata": {
        "colab": {
          "base_uri": "https://localhost:8080/"
        },
        "id": "GRdTvpB6x3KR",
        "outputId": "9fd2e3e0-ff4f-4034-8215-841573abd5b3"
      },
      "execution_count": 3,
      "outputs": [
        {
          "output_type": "stream",
          "name": "stdout",
          "text": [
            "Original DataFrame:\n",
            "     A    B    C\n",
            "0  1.0  NaN  1.0\n",
            "1  2.0  2.0  2.0\n",
            "2  NaN  3.0  3.0\n",
            "3  4.0  4.0  NaN\n",
            "\n",
            "DataFrame with rows dropped:\n",
            "     A    B    C\n",
            "1  2.0  2.0  2.0\n",
            "\n",
            "DataFrame with missing values filled with 0:\n",
            "     A    B    C\n",
            "0  1.0  0.0  1.0\n",
            "1  2.0  2.0  2.0\n",
            "2  0.0  3.0  3.0\n",
            "3  4.0  4.0  0.0\n",
            "\n",
            "DataFrame with forward fill:\n",
            "     A    B    C\n",
            "0  1.0  NaN  1.0\n",
            "1  2.0  2.0  2.0\n",
            "2  2.0  3.0  3.0\n",
            "3  4.0  4.0  3.0\n"
          ]
        },
        {
          "output_type": "stream",
          "name": "stderr",
          "text": [
            "<ipython-input-3-68a381eabcdf>:18: FutureWarning: DataFrame.fillna with 'method' is deprecated and will raise in a future version. Use obj.ffill() or obj.bfill() instead.\n",
            "  df_ffill = df.fillna(method='ffill')\n"
          ]
        }
      ]
    },
    {
      "cell_type": "markdown",
      "source": [
        " GroupBy and Aggregation"
      ],
      "metadata": {
        "id": "h8kaw9ft1XTd"
      }
    },
    {
      "cell_type": "code",
      "source": [
        "data = {\n",
        "    'Category': ['A', 'B', 'A', 'B', 'A'],\n",
        "    'Value': [10, 20, 30, 40, 50]\n",
        "}\n",
        "df = pd.DataFrame(data)\n",
        "\n",
        "# Group by 'Category' and calculate the sum of 'Value'\n",
        "grouped = df.groupby('Category').agg({'Value': 'sum'})\n",
        "\n",
        "print(\"Grouped DataFrame with Sum Aggregation:\")\n",
        "print(grouped)"
      ],
      "metadata": {
        "colab": {
          "base_uri": "https://localhost:8080/"
        },
        "id": "6Cch6tjp1Uoi",
        "outputId": "44160ffb-946b-4042-f510-24859dbc499c"
      },
      "execution_count": 4,
      "outputs": [
        {
          "output_type": "stream",
          "name": "stdout",
          "text": [
            "Grouped DataFrame with Sum Aggregation:\n",
            "          Value\n",
            "Category       \n",
            "A            90\n",
            "B            60\n"
          ]
        }
      ]
    },
    {
      "cell_type": "markdown",
      "source": [
        "Merging DataFrames"
      ],
      "metadata": {
        "id": "k45-GyrN1eG2"
      }
    },
    {
      "cell_type": "code",
      "source": [
        "df1 = pd.DataFrame({\n",
        "    'ID': [1, 2, 3],\n",
        "    'Name': ['Alice', 'Bob', 'Charlie']\n",
        "})\n",
        "\n",
        "df2 = pd.DataFrame({\n",
        "    'ID': [1, 2, 4],\n",
        "    'Score': [85, 90, 75]\n",
        "})\n",
        "\n",
        "# Merge DataFrames on 'ID'\n",
        "merged_df = pd.merge(df1, df2, on='ID', how='inner')  # 'inner' join by default\n",
        "\n",
        "print(\"Merged DataFrame:\")\n",
        "print(merged_df)"
      ],
      "metadata": {
        "colab": {
          "base_uri": "https://localhost:8080/"
        },
        "id": "0LQs582Y1bfk",
        "outputId": "96f81dc9-37a7-4ce0-ae86-be3616f091a5"
      },
      "execution_count": 5,
      "outputs": [
        {
          "output_type": "stream",
          "name": "stdout",
          "text": [
            "Merged DataFrame:\n",
            "   ID   Name  Score\n",
            "0   1  Alice     85\n",
            "1   2    Bob     90\n"
          ]
        }
      ]
    },
    {
      "cell_type": "markdown",
      "source": [
        "***Pivot Tables***"
      ],
      "metadata": {
        "id": "6zbMTIIG1jn_"
      }
    },
    {
      "cell_type": "code",
      "source": [
        "data = {\n",
        "    'Date': ['2024-01-01', '2024-01-02', '2024-01-01', '2024-01-02'],\n",
        "    'Product': ['A', 'A', 'B', 'B'],\n",
        "    'Sales': [100, 200, 150, 250]\n",
        "}\n",
        "df = pd.DataFrame(data)\n",
        "\n",
        "# Create a pivot table\n",
        "pivot_table = pd.pivot_table(df, values='Sales', index='Date', columns='Product', aggfunc='sum')\n",
        "\n",
        "print(\"Pivot Table:\")\n",
        "print(pivot_table)\n"
      ],
      "metadata": {
        "colab": {
          "base_uri": "https://localhost:8080/"
        },
        "id": "25HQ_4ve1hZs",
        "outputId": "a47e07cc-54cb-4aaf-cd98-b10a2787cc5b"
      },
      "execution_count": 6,
      "outputs": [
        {
          "output_type": "stream",
          "name": "stdout",
          "text": [
            "Pivot Table:\n",
            "Product       A    B\n",
            "Date                \n",
            "2024-01-01  100  150\n",
            "2024-01-02  200  250\n"
          ]
        }
      ]
    }
  ]
}